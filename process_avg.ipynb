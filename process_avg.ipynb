{
 "cells": [
  {
   "cell_type": "code",
   "execution_count": 1,
   "metadata": {
    "collapsed": true
   },
   "outputs": [],
   "source": [
    "%matplotlib inline"
   ]
  },
  {
   "cell_type": "code",
   "execution_count": 2,
   "metadata": {
    "collapsed": true
   },
   "outputs": [],
   "source": [
    "import numpy as np, pandas as pd\n",
    "import glob\n",
    "import matplotlib.pyplot as plt"
   ]
  },
  {
   "cell_type": "code",
   "execution_count": 3,
   "metadata": {
    "collapsed": false
   },
   "outputs": [
    {
     "data": {
      "text/plain": [
       "['new1en10.txt',\n",
       " 'new1en11.txt',\n",
       " 'new1en12.txt',\n",
       " 'new1en13.txt',\n",
       " 'new1en14.txt']"
      ]
     },
     "execution_count": 3,
     "metadata": {},
     "output_type": "execute_result"
    }
   ],
   "source": [
    "filenames = glob.glob('new*.txt')\n",
    "filenames.sort()\n",
    "filenames"
   ]
  },
  {
   "cell_type": "code",
   "execution_count": 3,
   "metadata": {
    "collapsed": false
   },
   "outputs": [],
   "source": [
    "csvs = [pd.read_csv(filen).as_matrix() for filen in filenames]"
   ]
  },
  {
   "cell_type": "code",
   "execution_count": 114,
   "metadata": {
    "collapsed": false
   },
   "outputs": [],
   "source": [
    "def norm(x, axis=None):\n",
    "    return np.sqrt(np.sum(np.array(x)**2, axis=axis))"
   ]
  },
  {
   "cell_type": "code",
   "execution_count": 4,
   "metadata": {
    "collapsed": false
   },
   "outputs": [
    {
     "name": "stdout",
     "output_type": "stream",
     "text": [
      "[['Iterations per second: 26.68']\n",
      " ['Iterations per second: 26.91']\n",
      " ['Iterations per second: 25.13']]\n",
      "[['Iterations per second: 25.55']\n",
      " ['Iterations per second: 25.19']\n",
      " ['Iterations per second: 21.87']\n",
      " ['Iterations per second: 24.30']\n",
      " ['Iterations per second: 25.59']]\n",
      "[['Iterations per second: 16.10']\n",
      " ['Iterations per second: 16.09']\n",
      " ['Iterations per second: 14.78']]\n",
      "[['Iterations per second: 10.29']\n",
      " ['Iterations per second: 10.53']\n",
      " ['Iterations per second: 10.35']\n",
      " ['Iterations per second: 8.59']\n",
      " ['Iterations per second: 10.01']]\n",
      "[['Iterations per second: 8.48']\n",
      " ['Iterations per second: 8.53']\n",
      " ['Iterations per second: 8.95']\n",
      " ['Iterations per second: 8.92']\n",
      " ['Iterations per second: 6.86']\n",
      " ['Iterations per second: 8.49']]\n"
     ]
    }
   ],
   "source": [
    "data = []\n",
    "for cs in csvs:\n",
    "    ldata = []\n",
    "    cs2 = cs[3::4]\n",
    "    print(cs2)\n",
    "    for thing in cs2:\n",
    "        num = float(list(thing)[0].split(':')[1].strip())\n",
    "        ldata.append(num)\n",
    "    data.append(ldata)"
   ]
  },
  {
   "cell_type": "code",
   "execution_count": 5,
   "metadata": {
    "collapsed": false
   },
   "outputs": [
    {
     "data": {
      "text/plain": [
       "[[26.68, 26.91, 25.13],\n",
       " [25.55, 25.19, 21.87, 24.3, 25.59],\n",
       " [16.1, 16.09, 14.78],\n",
       " [10.29, 10.53, 10.35, 8.59, 10.01],\n",
       " [8.48, 8.53, 8.95, 8.92, 6.86, 8.49]]"
      ]
     },
     "execution_count": 5,
     "metadata": {},
     "output_type": "execute_result"
    }
   ],
   "source": [
    "data"
   ]
  },
  {
   "cell_type": "code",
   "execution_count": 6,
   "metadata": {
    "collapsed": true
   },
   "outputs": [],
   "source": [
    "avgs = [np.mean(lst) for lst in data]"
   ]
  },
  {
   "cell_type": "code",
   "execution_count": 7,
   "metadata": {
    "collapsed": false
   },
   "outputs": [
    {
     "data": {
      "text/plain": [
       "[26.239999999999998,\n",
       " 24.5,\n",
       " 15.656666666666666,\n",
       " 9.9540000000000006,\n",
       " 8.3716666666666661]"
      ]
     },
     "execution_count": 7,
     "metadata": {},
     "output_type": "execute_result"
    }
   ],
   "source": [
    "avgs"
   ]
  },
  {
   "cell_type": "code",
   "execution_count": 11,
   "metadata": {
    "collapsed": false
   },
   "outputs": [
    {
     "data": {
      "text/html": [
       "<div>\n",
       "<table border=\"1\" class=\"dataframe\">\n",
       "  <thead>\n",
       "    <tr style=\"text-align: right;\">\n",
       "      <th></th>\n",
       "      <th>0</th>\n",
       "    </tr>\n",
       "  </thead>\n",
       "  <tbody>\n",
       "    <tr>\n",
       "      <th>0</th>\n",
       "      <td>232.169649</td>\n",
       "    </tr>\n",
       "    <tr>\n",
       "      <th>1</th>\n",
       "      <td>209.955610</td>\n",
       "    </tr>\n",
       "    <tr>\n",
       "      <th>2</th>\n",
       "      <td>251.186667</td>\n",
       "    </tr>\n",
       "    <tr>\n",
       "      <th>3</th>\n",
       "      <td>54.994616</td>\n",
       "    </tr>\n",
       "    <tr>\n",
       "      <th>4</th>\n",
       "      <td>123.843749</td>\n",
       "    </tr>\n",
       "  </tbody>\n",
       "</table>\n",
       "</div>"
      ],
      "text/plain": [
       "            0\n",
       "0  232.169649\n",
       "1  209.955610\n",
       "2  251.186667\n",
       "3   54.994616\n",
       "4  123.843749"
      ]
     },
     "execution_count": 11,
     "metadata": {},
     "output_type": "execute_result"
    }
   ],
   "source": [
    "speeds = pd.read_csv('data/bogo1.csv', skiprows=0, header=None)\n",
    "speeds.head()"
   ]
  },
  {
   "cell_type": "code",
   "execution_count": 24,
   "metadata": {
    "collapsed": false
   },
   "outputs": [
    {
     "data": {
      "text/plain": [
       "array([[<matplotlib.axes._subplots.AxesSubplot object at 0x7f266f87bac8>]], dtype=object)"
      ]
     },
     "execution_count": 24,
     "metadata": {},
     "output_type": "execute_result"
    },
    {
     "data": {
      "image/png": "[encoded data removed]",
      "text/plain": [
       "<matplotlib.figure.Figure at 0x7f266f8bf2e8>"
      ]
     },
     "metadata": {},
     "output_type": "display_data"
    }
   ],
   "source": [
    "speeds.hist(bins=100)"
   ]
  },
  {
   "cell_type": "code",
   "execution_count": 25,
   "metadata": {
    "collapsed": false
   },
   "outputs": [
    {
     "name": "stdout",
     "output_type": "stream",
     "text": [
      "0    204.63248\n",
      "dtype: float64 0    203.865126\n",
      "dtype: float64\n"
     ]
    }
   ],
   "source": [
    "print(speeds.mean(), speeds.median())"
   ]
  },
  {
   "cell_type": "code",
   "execution_count": 30,
   "metadata": {
    "collapsed": true
   },
   "outputs": [],
   "source": [
    "speed2 = pd.read_csv('speeds.csv')"
   ]
  },
  {
   "cell_type": "code",
   "execution_count": null,
   "metadata": {
    "collapsed": true
   },
   "outputs": [],
   "source": []
  },
  {
   "cell_type": "code",
   "execution_count": 31,
   "metadata": {
    "collapsed": false
   },
   "outputs": [
    {
     "data": {
      "text/plain": [
       "array([[<matplotlib.axes._subplots.AxesSubplot object at 0x7f266f533f98>]], dtype=object)"
      ]
     },
     "execution_count": 31,
     "metadata": {},
     "output_type": "execute_result"
    },
    {
     "data": {
      "image/png": "[encoded data removed]",
      "text/plain": [
       "<matplotlib.figure.Figure at 0x7f266f568c18>"
      ]
     },
     "metadata": {},
     "output_type": "display_data"
    }
   ],
   "source": [
    "speed2.hist(bins=30)"
   ]
  },
  {
   "cell_type": "code",
   "execution_count": 32,
   "metadata": {
    "collapsed": true
   },
   "outputs": [],
   "source": [
    "speed2 = pd.read_csv('speeds.csv')"
   ]
  },
  {
   "cell_type": "code",
   "execution_count": 33,
   "metadata": {
    "collapsed": false
   },
   "outputs": [
    {
     "data": {
      "text/plain": [
       "array([[<matplotlib.axes._subplots.AxesSubplot object at 0x7f266f466cc0>]], dtype=object)"
      ]
     },
     "execution_count": 33,
     "metadata": {},
     "output_type": "execute_result"
    },
    {
     "data": {
      "image/png": "[encoded data removed]",
      "text/plain": [
       "<matplotlib.figure.Figure at 0x7f266f8b8550>"
      ]
     },
     "metadata": {},
     "output_type": "display_data"
    }
   ],
   "source": [
    "speed2.hist(bins=30)"
   ]
  },
  {
   "cell_type": "code",
   "execution_count": 111,
   "metadata": {
    "collapsed": true
   },
   "outputs": [],
   "source": []
  },
  {
   "cell_type": "code",
   "execution_count": 43,
   "metadata": {
    "collapsed": false
   },
   "outputs": [
    {
     "data": {
      "text/plain": [
       "510.95498823281878"
      ]
     },
     "execution_count": 43,
     "metadata": {},
     "output_type": "execute_result"
    }
   ],
   "source": [
    "norm([295.,]*3)"
   ]
  },
  {
   "cell_type": "code",
   "execution_count": 44,
   "metadata": {
    "collapsed": false
   },
   "outputs": [
    {
     "data": {
      "text/plain": [
       "1039.230485    1039.230485\n",
       "dtype: float64"
      ]
     },
     "execution_count": 44,
     "metadata": {},
     "output_type": "execute_result"
    }
   ],
   "source": [
    "np.amax(speed2)"
   ]
  },
  {
   "cell_type": "code",
   "execution_count": 94,
   "metadata": {
    "collapsed": false
   },
   "outputs": [],
   "source": [
    "import hashlib\n",
    "import struct\n",
    " \n",
    " \n",
    "class GRandom:\n",
    "    def __init__(self):\n",
    "        self.audio = open(\"/dev/urandom\",\"rb\")\n",
    "        self.hash = hashlib.md5()\n",
    " \n",
    "    def get_raw_block(self):\n",
    "        buffer = self.audio.read(self.hash.block_size*8)\n",
    "        bytes = struct.unpack(\"%iB\"%len(buffer), buffer)\n",
    " \n",
    "        longs = []\n",
    "        for i in range(self.hash.block_size//4):\n",
    "            temp = 0\n",
    "            for b in bytes[i*32:(i+1)*32]:\n",
    "                temp = (temp << 1) ^ (b & 1)\n",
    "            longs.append(temp)\n",
    "        return struct.pack(\"%iI\"%len(longs), *longs)\n",
    " \n",
    "    def get_block(self):\n",
    "        self.hash.update(self.get_raw_block())\n",
    "        return self.hash.digest()\n",
    "    \n",
    "    def get_ints(self):\n",
    "        return struct.unpack(\"IIII\", self.get_block())\n",
    "    \n",
    "    def get_list(self, num_ints):\n",
    "        data = []\n",
    "        for i in range(num_ints//2):\n",
    "            data = data + list(self.get_ints())\n",
    "        return data\n",
    "    \n",
    "    def rand_to_file(self, num_ints, path):\n",
    "        thelist = self.get_list(num_ints)\n",
    "        with open(path, 'w') as outfile:\n",
    "            for item in thelist:\n",
    "                outfile.write(\"%s\\n\" % item)"
   ]
  },
  {
   "cell_type": "code",
   "execution_count": 95,
   "metadata": {
    "collapsed": false
   },
   "outputs": [],
   "source": [
    "g = GRandom()"
   ]
  },
  {
   "cell_type": "code",
   "execution_count": 96,
   "metadata": {
    "collapsed": false
   },
   "outputs": [
    {
     "data": {
      "text/plain": [
       "[<matplotlib.lines.Line2D at 0x7f266ee96710>]"
      ]
     },
     "execution_count": 96,
     "metadata": {},
     "output_type": "execute_result"
    },
    {
     "data": {
      "image/png": "[encoded data removed]",
      "text/plain": [
       "<matplotlib.figure.Figure at 0x7f266eedc278>"
      ]
     },
     "metadata": {},
     "output_type": "display_data"
    }
   ],
   "source": [
    "plt.plot([x for x in g.get_block()])"
   ]
  },
  {
   "cell_type": "code",
   "execution_count": 97,
   "metadata": {
    "collapsed": false
   },
   "outputs": [
    {
     "data": {
      "text/plain": [
       "(4085495639,\n",
       " 2869967742,\n",
       " 2861290751,\n",
       " 2038444781,\n",
       " 615907261,\n",
       " 3265594187,\n",
       " 2646272681,\n",
       " 157419562)"
      ]
     },
     "execution_count": 97,
     "metadata": {},
     "output_type": "execute_result"
    }
   ],
   "source": [
    "struct.unpack(\"IIII\", g.get_block()) + struct.unpack(\"IIII\", g.get_block())"
   ]
  },
  {
   "cell_type": "code",
   "execution_count": 98,
   "metadata": {
    "collapsed": false
   },
   "outputs": [
    {
     "data": {
      "text/plain": [
       "[571152078,\n",
       " 285185580,\n",
       " 2892466312,\n",
       " 2021051564,\n",
       " 3679402240,\n",
       " 1889237252,\n",
       " 2365168373,\n",
       " 2596715418,\n",
       " 3444575897,\n",
       " 3447298449,\n",
       " 4017880469,\n",
       " 2515486993,\n",
       " 127486461,\n",
       " 3821591992,\n",
       " 876430975,\n",
       " 2660365112,\n",
       " 4238764989,\n",
       " 1540523713,\n",
       " 3503026736,\n",
       " 3273444612,\n",
       " 2514639870,\n",
       " 3993317096,\n",
       " 1440632010,\n",
       " 190578363,\n",
       " 1864640889,\n",
       " 3169688596,\n",
       " 3062453910,\n",
       " 4094095890,\n",
       " 2418479838,\n",
       " 3089056059,\n",
       " 2980499930,\n",
       " 3195745503,\n",
       " 2563545410,\n",
       " 756663899,\n",
       " 3764509428,\n",
       " 3061167978,\n",
       " 2755063784,\n",
       " 449450506,\n",
       " 2912099557,\n",
       " 459178723]"
      ]
     },
     "execution_count": 98,
     "metadata": {},
     "output_type": "execute_result"
    }
   ],
   "source": [
    "g.get_list(20)"
   ]
  },
  {
   "cell_type": "code",
   "execution_count": 100,
   "metadata": {
    "collapsed": false
   },
   "outputs": [],
   "source": [
    "g.rand_to_file(100, 'rands.txt')"
   ]
  },
  {
   "cell_type": "code",
   "execution_count": 87,
   "metadata": {
    "collapsed": false
   },
   "outputs": [],
   "source": [
    "sp13_11 = pd.read_csv('out/speed_t4_dt14_m10_s555.csv')"
   ]
  },
  {
   "cell_type": "code",
   "execution_count": 88,
   "metadata": {
    "collapsed": false
   },
   "outputs": [
    {
     "data": {
      "text/plain": [
       "array([[<matplotlib.axes._subplots.AxesSubplot object at 0x7efd0be5c0b8>]], dtype=object)"
      ]
     },
     "execution_count": 88,
     "metadata": {},
     "output_type": "execute_result"
    },
    {
     "data": {
      "image/png": "[encoded data removed]",
      "text/plain": [
       "<matplotlib.figure.Figure at 0x7efd0be93ef0>"
      ]
     },
     "metadata": {},
     "output_type": "display_data"
    }
   ],
   "source": [
    "sp13_11.hist(bins=30)"
   ]
  },
  {
   "cell_type": "code",
   "execution_count": 89,
   "metadata": {
    "collapsed": false
   },
   "outputs": [
    {
     "data": {
      "text/plain": [
       "array([[<matplotlib.axes._subplots.AxesSubplot object at 0x7efd06fe47f0>]], dtype=object)"
      ]
     },
     "execution_count": 89,
     "metadata": {},
     "output_type": "execute_result"
    },
    {
     "data": {
      "image/png": "[encoded data removed]",
      "text/plain": [
       "<matplotlib.figure.Figure at 0x7efd070532e8>"
      ]
     },
     "metadata": {},
     "output_type": "display_data"
    }
   ],
   "source": [
    "sp_clamp = pd.read_csv('out/speed_t4_dt14_m10_s554.csv')\n",
    "sp_clamp.hist(bins=30)"
   ]
  },
  {
   "cell_type": "code",
   "execution_count": 90,
   "metadata": {
    "collapsed": false
   },
   "outputs": [
    {
     "data": {
      "text/plain": [
       "array([[<matplotlib.axes._subplots.AxesSubplot object at 0x7efd06f26ac8>]], dtype=object)"
      ]
     },
     "execution_count": 90,
     "metadata": {},
     "output_type": "execute_result"
    },
    {
     "data": {
      "image/png": "[encoded data removed]",
      "text/plain": [
       "<matplotlib.figure.Figure at 0x7efd06f5f5f8>"
      ]
     },
     "metadata": {},
     "output_type": "display_data"
    }
   ],
   "source": [
    "sp_clamp = pd.read_csv('out/speed_t4_dt14_m10_s104.csv')\n",
    "sp_clamp.hist(bins=30)"
   ]
  },
  {
   "cell_type": "code",
   "execution_count": 224,
   "metadata": {
    "collapsed": false
   },
   "outputs": [
    {
     "data": {
      "text/plain": [
       "(2000, 4)"
      ]
     },
     "execution_count": 224,
     "metadata": {},
     "output_type": "execute_result"
    }
   ],
   "source": [
    "hep = pd.read_csv('out/hep_t4_dt14_m10_s555_e1.csv', sep='\\t', header=None)\n",
    "hep.shape\n",
    "# sp_clamp.hist(bins=30)"
   ]
  },
  {
   "cell_type": "code",
   "execution_count": 225,
   "metadata": {
    "collapsed": false
   },
   "outputs": [],
   "source": [
    "vel = np.diff(hep, axis=0)\n",
    "spd = norm(vel, 1)"
   ]
  },
  {
   "cell_type": "code",
   "execution_count": 226,
   "metadata": {
    "collapsed": false
   },
   "outputs": [
    {
     "data": {
      "text/plain": [
       "[<matplotlib.lines.Line2D at 0x7efd03f55a20>]"
      ]
     },
     "execution_count": 226,
     "metadata": {},
     "output_type": "execute_result"
    },
    {
     "data": {
      "image/png": "[encoded data removed]",
      "text/plain": [
       "<matplotlib.figure.Figure at 0x7efd03fd19e8>"
      ]
     },
     "metadata": {},
     "output_type": "display_data"
    }
   ],
   "source": [
    "plt.plot(spd)"
   ]
  },
  {
   "cell_type": "code",
   "execution_count": 227,
   "metadata": {
    "collapsed": false,
    "scrolled": true
   },
   "outputs": [
    {
     "data": {
      "text/plain": [
       "[<matplotlib.lines.Line2D at 0x7efd03f3c8d0>]"
      ]
     },
     "execution_count": 227,
     "metadata": {},
     "output_type": "execute_result"
    },
    {
     "data": {
      "image/png": "[encoded data removed]",
      "text/plain": [
       "<matplotlib.figure.Figure at 0x7efd03f6beb8>"
      ]
     },
     "metadata": {},
     "output_type": "display_data"
    }
   ],
   "source": [
    "plt.plot(hep[3])"
   ]
  },
  {
   "cell_type": "code",
   "execution_count": 187,
   "metadata": {
    "collapsed": false
   },
   "outputs": [
    {
     "data": {
      "text/html": [
       "<div>\n",
       "<table border=\"1\" class=\"dataframe\">\n",
       "  <thead>\n",
       "    <tr style=\"text-align: right;\">\n",
       "      <th></th>\n",
       "      <th>time [s]</th>\n",
       "      <th>separation [m]</th>\n",
       "      <th>mean speed [m/s]</th>\n",
       "      <th>quad loop time [ns]</th>\n",
       "    </tr>\n",
       "  </thead>\n",
       "  <tbody>\n",
       "    <tr>\n",
       "      <th>0</th>\n",
       "      <td>1.000000e-14</td>\n",
       "      <td>NaN</td>\n",
       "      <td>315.9000</td>\n",
       "      <td>64645200.0</td>\n",
       "    </tr>\n",
       "    <tr>\n",
       "      <th>1</th>\n",
       "      <td>2.000000e-14</td>\n",
       "      <td>NaN</td>\n",
       "      <td>333.3601</td>\n",
       "      <td>61023860.0</td>\n",
       "    </tr>\n",
       "    <tr>\n",
       "      <th>2</th>\n",
       "      <td>3.000000e-14</td>\n",
       "      <td>NaN</td>\n",
       "      <td>345.0150</td>\n",
       "      <td>64137660.0</td>\n",
       "    </tr>\n",
       "    <tr>\n",
       "      <th>3</th>\n",
       "      <td>4.000000e-14</td>\n",
       "      <td>NaN</td>\n",
       "      <td>358.6783</td>\n",
       "      <td>65196660.0</td>\n",
       "    </tr>\n",
       "    <tr>\n",
       "      <th>4</th>\n",
       "      <td>5.000000e-14</td>\n",
       "      <td>NaN</td>\n",
       "      <td>365.2064</td>\n",
       "      <td>64892340.0</td>\n",
       "    </tr>\n",
       "  </tbody>\n",
       "</table>\n",
       "</div>"
      ],
      "text/plain": [
       "       time [s]  separation [m]  mean speed [m/s]  quad loop time [ns]\n",
       "0  1.000000e-14             NaN          315.9000           64645200.0\n",
       "1  2.000000e-14             NaN          333.3601           61023860.0\n",
       "2  3.000000e-14             NaN          345.0150           64137660.0\n",
       "3  4.000000e-14             NaN          358.6783           65196660.0\n",
       "4  5.000000e-14             NaN          365.2064           64892340.0"
      ]
     },
     "execution_count": 187,
     "metadata": {},
     "output_type": "execute_result"
    }
   ],
   "source": [
    "data = pd.read_csv('out/data_t4_dt14_m11_s555_e1000.csv', sep='\\t')\n",
    "data.head()"
   ]
  },
  {
   "cell_type": "code",
   "execution_count": 188,
   "metadata": {
    "collapsed": false
   },
   "outputs": [
    {
     "data": {
      "text/plain": [
       "[<matplotlib.lines.Line2D at 0x7efd0458fe48>]"
      ]
     },
     "execution_count": 188,
     "metadata": {},
     "output_type": "execute_result"
    },
    {
     "data": {
      "image/png": "[encoded data removed]",
      "text/plain": [
       "<matplotlib.figure.Figure at 0x7efd045cd320>"
      ]
     },
     "metadata": {},
     "output_type": "display_data"
    }
   ],
   "source": [
    "plt.plot(data['mean speed [m/s]'])"
   ]
  },
  {
   "cell_type": "code",
   "execution_count": 128,
   "metadata": {
    "collapsed": false
   },
   "outputs": [
    {
     "data": {
      "text/plain": [
       "(207327, 1)"
      ]
     },
     "execution_count": 128,
     "metadata": {},
     "output_type": "execute_result"
    }
   ],
   "source": [
    "path = './data/core5_1en14_2en9/bogo3.txt'\n",
    "# with open('./data/core5_1en14_2en9/bogo1.txt', 'r') as infile:\n",
    "#     bogo = infile.readlines()\n",
    "num_spds = 1656\n",
    "bogo = pd.read_csv(path, header=None)\n",
    "bogo.shape"
   ]
  },
  {
   "cell_type": "code",
   "execution_count": 83,
   "metadata": {
    "collapsed": false
   },
   "outputs": [],
   "source": [
    "mask = bogo[0].str.find('Time')\n"
   ]
  },
  {
   "cell_type": "code",
   "execution_count": 172,
   "metadata": {
    "collapsed": false
   },
   "outputs": [],
   "source": [
    "idxs = bogo.index[mask >=0]"
   ]
  },
  {
   "cell_type": "code",
   "execution_count": 174,
   "metadata": {
    "collapsed": false
   },
   "outputs": [
    {
     "data": {
      "text/plain": [
       "3991"
      ]
     },
     "execution_count": 174,
     "metadata": {},
     "output_type": "execute_result"
    }
   ],
   "source": [
    "idxs[-1] - idxs[-2]"
   ]
  },
  {
   "cell_type": "code",
   "execution_count": 84,
   "metadata": {
    "collapsed": false
   },
   "outputs": [],
   "source": [
    "start = bogo.index[mask >=0][-1]+1"
   ]
  },
  {
   "cell_type": "code",
   "execution_count": 85,
   "metadata": {
    "collapsed": false
   },
   "outputs": [
    {
     "data": {
      "text/html": [
       "<div>\n",
       "<table border=\"1\" class=\"dataframe\">\n",
       "  <thead>\n",
       "    <tr style=\"text-align: right;\">\n",
       "      <th></th>\n",
       "      <th>0</th>\n",
       "    </tr>\n",
       "  </thead>\n",
       "  <tbody>\n",
       "    <tr>\n",
       "      <th>205671</th>\n",
       "      <td>232.169649</td>\n",
       "    </tr>\n",
       "    <tr>\n",
       "      <th>205672</th>\n",
       "      <td>209.955610</td>\n",
       "    </tr>\n",
       "    <tr>\n",
       "      <th>205673</th>\n",
       "      <td>251.186667</td>\n",
       "    </tr>\n",
       "    <tr>\n",
       "      <th>205674</th>\n",
       "      <td>54.994616</td>\n",
       "    </tr>\n",
       "    <tr>\n",
       "      <th>205675</th>\n",
       "      <td>123.843749</td>\n",
       "    </tr>\n",
       "  </tbody>\n",
       "</table>\n",
       "</div>"
      ],
      "text/plain": [
       "                 0\n",
       "205671  232.169649\n",
       "205672  209.955610\n",
       "205673  251.186667\n",
       "205674   54.994616\n",
       "205675  123.843749"
      ]
     },
     "execution_count": 85,
     "metadata": {},
     "output_type": "execute_result"
    }
   ],
   "source": [
    "bogo[-1656:].head()"
   ]
  },
  {
   "cell_type": "code",
   "execution_count": 162,
   "metadata": {
    "collapsed": true
   },
   "outputs": [],
   "source": [
    "paths = glob.glob('./data/core5_1en14_2en9/bogo*')\n",
    "bogos = [pd.read_csv(p, header=None)[-num_spds:] for p in paths]\n",
    "bogos = [pd.to_numeric(b[0]) for b in bogos]\n",
    "arys = [np.array(b).reshape(-1,1) for b in bogos]"
   ]
  },
  {
   "cell_type": "code",
   "execution_count": 163,
   "metadata": {
    "collapsed": false
   },
   "outputs": [
    {
     "data": {
      "text/plain": [
       "pandas.core.series.Series"
      ]
     },
     "execution_count": 163,
     "metadata": {},
     "output_type": "execute_result"
    }
   ],
   "source": [
    "type(bogos[0])"
   ]
  },
  {
   "cell_type": "code",
   "execution_count": 164,
   "metadata": {
    "collapsed": false
   },
   "outputs": [
    {
     "data": {
      "text/plain": [
       "(1656,)"
      ]
     },
     "execution_count": 164,
     "metadata": {},
     "output_type": "execute_result"
    }
   ],
   "source": [
    "mean_spds = pd.Series(np.mean(np.concatenate(arys, axis=1), axis=1))\n",
    "mean_spds.shape"
   ]
  },
  {
   "cell_type": "code",
   "execution_count": 165,
   "metadata": {
    "collapsed": false
   },
   "outputs": [
    {
     "data": {
      "text/plain": [
       "<matplotlib.axes._subplots.AxesSubplot at 0x7efd010136d8>"
      ]
     },
     "execution_count": 165,
     "metadata": {},
     "output_type": "execute_result"
    },
    {
     "data": {
      "image/png": "[encoded data removed]",
      "text/plain": [
       "<matplotlib.figure.Figure at 0x7efcf9cdbf98>"
      ]
     },
     "metadata": {},
     "output_type": "display_data"
    }
   ],
   "source": [
    "bogos[2].hist()"
   ]
  },
  {
   "cell_type": "code",
   "execution_count": 169,
   "metadata": {
    "collapsed": false
   },
   "outputs": [
    {
     "data": {
      "text/plain": [
       "<matplotlib.axes._subplots.AxesSubplot at 0x7efcf8b40e80>"
      ]
     },
     "execution_count": 169,
     "metadata": {},
     "output_type": "execute_result"
    },
    {
     "data": {
      "image/png": "[encoded data removed]",
      "text/plain": [
       "<matplotlib.figure.Figure at 0x7efd00d39ba8>"
      ]
     },
     "metadata": {},
     "output_type": "display_data"
    }
   ],
   "source": [
    "mean_spds.hist(bins=30, alpha=0.5)\n",
    "bogos[2].hist(bins=30, alpha=0.5)"
   ]
  },
  {
   "cell_type": "code",
   "execution_count": 175,
   "metadata": {
    "collapsed": true
   },
   "outputs": [],
   "source": [
    "bogos[0].to_csv('data/mean_spd.csv')"
   ]
  },
  {
   "cell_type": "code",
   "execution_count": 184,
   "metadata": {
    "collapsed": true
   },
   "outputs": [],
   "source": [
    "m = 2.1801714e-25\n",
    "j_to_kev = 6.242e+15\n",
    "v = 250 #m/s"
   ]
  },
  {
   "cell_type": "code",
   "execution_count": 186,
   "metadata": {
    "collapsed": false
   },
   "outputs": [
    {
     "data": {
      "text/plain": [
       "4.252696837125e-05"
      ]
     },
     "execution_count": 186,
     "metadata": {},
     "output_type": "execute_result"
    }
   ],
   "source": [
    "j_to_kev * .5 * m *v**2 "
   ]
  },
  {
   "cell_type": "code",
   "execution_count": 199,
   "metadata": {
    "collapsed": false
   },
   "outputs": [
    {
     "data": {
      "text/plain": [
       "121229.35557946764"
      ]
     },
     "execution_count": 199,
     "metadata": {},
     "output_type": "execute_result"
    }
   ],
   "source": [
    "(2*10/ j_to_kev/m)**.5"
   ]
  },
  {
   "cell_type": "code",
   "execution_count": 237,
   "metadata": {
    "collapsed": true
   },
   "outputs": [],
   "source": [
    "def histo(ary, nbins=32, vmin=0, vmax=1023):\n",
    "    bins = [0,]*nbins\n",
    "    vrange = vmax - vmin\n",
    "    vstep = vrange / float(nbins)\n",
    "    for item in ary:\n",
    "        binval = int((item - vmin) // vstep)-1\n",
    "        binval = nbins - 1 if binval >= nbins else binval\n",
    "        bins[binval] = bins[binval] +1\n",
    "    return bins\n",
    "        "
   ]
  },
  {
   "cell_type": "code",
   "execution_count": 238,
   "metadata": {
    "collapsed": false
   },
   "outputs": [
    {
     "data": {
      "text/plain": [
       "[2, 2, 2, 2, 2, 2, 2, 2, 2, 2, 2, 2, 2, 2, 1, 3]"
      ]
     },
     "execution_count": 238,
     "metadata": {},
     "output_type": "execute_result"
    }
   ],
   "source": [
    "histo(range(32), nbins=16, vmax=31)"
   ]
  },
  {
   "cell_type": "code",
   "execution_count": null,
   "metadata": {
    "collapsed": true
   },
   "outputs": [],
   "source": [
    "path ='out/data_ct4_dt14_m11_s555__.csv'\n",
    "# hep = pd.read_csv(path.format('hep'), sep='\\t', header=None)\n",
    "data = pd.read_csv(path.format('data'), sep='\\t')\n",
    "plt.plot(data['mean speed [m/s]'])\n",
    "plt.plot([len(data)//2,]*2, [200,400])"
   ]
  }
 ],
 "metadata": {
  "kernelspec": {
   "display_name": "Python 3",
   "language": "python",
   "name": "python3"
  },
  "language_info": {
   "codemirror_mode": {
    "name": "ipython",
    "version": 3
   },
   "file_extension": ".py",
   "mimetype": "text/x-python",
   "name": "python",
   "nbconvert_exporter": "python",
   "pygments_lexer": "ipython3",
   "version": "3.5.2"
  }
 },
 "nbformat": 4,
 "nbformat_minor": 0
}
