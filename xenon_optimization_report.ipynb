{
 "cells": [
  {
   "cell_type": "markdown",
   "metadata": {},
   "source": [
    "# Optimization\n",
    "## Michael McDermott"
   ]
  },
  {
   "cell_type": "markdown",
   "metadata": {},
   "source": [
    "Optimization was conducted to improve the performance of the LJ Molecular Dynamics program. "
   ]
  },
  {
   "cell_type": "markdown",
   "metadata": {},
   "source": [
    "### Bone-stock performance\n",
    "#### Program was run on an i3-3120M 2.5 Ghz (4 threads). A typical speed benchmark consists of running with time step = 1e-12 seconds and end time = 1e-10.  Initialization (populating the simulation with atoms) is timed separately from iterations. Initialization time is fixed with respect to simulation. Iters/second are computed from after simulation. \n",
    "Compiling: `gcc main.c aux.c -lm -o plain.run`\n",
    "\n",
    "    Number of iterations: 101\n",
    "    Initialization seconds: 2.751\n",
    "    Elapsed seconds: 22.519\n",
    "    Iterations per second: 4.49\n",
    "    \n",
    "    Number of iterations: 101\n",
    "    Initialization seconds: 2.684\n",
    "    Elapsed seconds: 30.022\n",
    "    Iterations per second: 3.36\n",
    "    \n",
    "    Number of iterations: 101\n",
    "    Initialization seconds: 2.106\n",
    "    Elapsed seconds: 21.016\n",
    "    Iterations per second: 4.81\n"
   ]
  },
  {
   "cell_type": "markdown",
   "metadata": {},
   "source": [
    "## Pipe to file\n",
    "#### This optimization seeks to eliminate some overhead by directly outputing to a file (bash > redirect) rather than standard out. This had no effect, however since future attempts would all be piping to a file, I wanted to control for this effect. \n",
    "\n",
    "    Number of iterations: 101\n",
    "    Initialization seconds: 2.688\n",
    "    Elapsed seconds: 29.506\n",
    "    Iterations per second: 3.42\n",
    "\n",
    "    Number of iterations: 101\n",
    "    Initialization seconds: 2.141\n",
    "    Elapsed seconds: 20.995\n",
    "    Iterations per second: 4.81\n",
    "\n",
    "    Number of iterations: 101\n",
    "    Initialization seconds: 2.080\n",
    "    Elapsed seconds: 21.157\n",
    "    Iterations per second: 4.77\n"
   ]
  },
  {
   "cell_type": "markdown",
   "metadata": {},
   "source": [
    "## Optimization flags\n",
    "### -O1 - 2.5x improvement\n",
    "\n",
    "\n",
    "    Number of iterations: 101\n",
    "    Initialization seconds: 2.005\n",
    "    Elapsed seconds: 9.326\n",
    "    Iterations per second: 10.83\n",
    "\n",
    "    Number of iterations: 101\n",
    "    Initialization seconds: 1.564\n",
    "    Elapsed seconds: 6.677\n",
    "    Iterations per second: 15.13\n",
    "    \n",
    "    Number of iterations: 101\n",
    "    Initialization seconds: 1.565\n",
    "    Elapsed seconds: 7.022\n",
    "    Iterations per second: 14.38\n",
    "\n",
    "\n",
    "### -O2\n",
    "\n",
    "    Number of iterations: 101\n",
    "    Initialization seconds: 2.049\n",
    "    Elapsed seconds: 8.594\n",
    "    Iterations per second: 11.75\n",
    "\n",
    "    Number of iterations: 101\n",
    "    Initialization seconds: 1.991\n",
    "    Elapsed seconds: 8.921\n",
    "    Iterations per second: 11.32\n",
    "\n",
    "    Number of iterations: 101\n",
    "    Initialization seconds: 1.627\n",
    "    Elapsed seconds: 6.439\n",
    "    Iterations per second: 15.68\n",
    "    \n",
    "### -O3\n",
    "\n",
    "    Number of iterations: 101\n",
    "    Initialization seconds: 2.072\n",
    "    Elapsed seconds: 8.269\n",
    "    Iterations per second: 12.21\n",
    "\n",
    "    Number of iterations: 101\n",
    "    Initialization seconds: 1.604\n",
    "    Elapsed seconds: 6.123\n",
    "    Iterations per second: 16.50\n",
    "\n",
    "    Number of iterations: 101\n",
    "    Initialization seconds: 1.618\n",
    "    Elapsed seconds: 6.085\n",
    "    Iterations per second: 16.60\n",
    "\n",
    "\n"
   ]
  }
 ],
 "metadata": {
  "kernelspec": {
   "display_name": "Python 3",
   "language": "python",
   "name": "python3"
  },
  "language_info": {
   "codemirror_mode": {
    "name": "ipython",
    "version": 3
   },
   "file_extension": ".py",
   "mimetype": "text/x-python",
   "name": "python",
   "nbconvert_exporter": "python",
   "pygments_lexer": "ipython3",
   "version": "3.5.2"
  }
 },
 "nbformat": 4,
 "nbformat_minor": 0
}
