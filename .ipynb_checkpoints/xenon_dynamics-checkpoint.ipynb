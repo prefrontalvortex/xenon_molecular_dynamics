{
 "cells": [
  {
   "cell_type": "code",
   "execution_count": null,
   "metadata": {
    "collapsed": true
   },
   "outputs": [],
   "source": []
  },
  {
   "cell_type": "code",
   "execution_count": 1,
   "metadata": {
    "collapsed": true
   },
   "outputs": [],
   "source": [
    "import numpy as np"
   ]
  },
  {
   "cell_type": "markdown",
   "metadata": {},
   "source": [
    "Notes:\n",
    "\n",
    "Mean speed should be higher than the peak"
   ]
  },
  {
   "cell_type": "code",
   "execution_count": 4,
   "metadata": {
    "collapsed": false
   },
   "outputs": [
    {
     "data": {
      "text/plain": [
       "0.00014453395627639343"
      ]
     },
     "execution_count": 4,
     "metadata": {},
     "output_type": "execute_result"
    }
   ],
   "source": [
    "# Mean interatom distance (as cube)\n",
    "(5e-9 / 1656)**(1/3)"
   ]
  },
  {
   "cell_type": "code",
   "execution_count": 5,
   "metadata": {
    "collapsed": true
   },
   "outputs": [],
   "source": [
    "# 5e-10 m as hard spheres\n",
    "# Van der waals radius = 2.16e-10, between two atoms = 4.32e-10\n",
    "# rminimum = 4.6e-10"
   ]
  },
  {
   "cell_type": "markdown",
   "metadata": {},
   "source": [
    "Flat stable mean separation, stable mean speed\n",
    "mean speed somewhere between 100-300 m/s\n",
    "mean sep should be 3-4.5 Å\n",
    "Guideline is on precision (stability) not absolute accuracy. within the allowed ranges. \n",
    "Better is very softly defined, means faster and/or more accurate, or faster stabilization\n",
    "Simulate 1 ns MINIMUM (requirement). Default step size is 10-13 seconds. Or make it faster and accurate with a smaller step size. "
   ]
  }
 ],
 "metadata": {
  "kernelspec": {
   "display_name": "Python 3",
   "language": "python",
   "name": "python3"
  },
  "language_info": {
   "codemirror_mode": {
    "name": "ipython",
    "version": 3
   },
   "file_extension": ".py",
   "mimetype": "text/x-python",
   "name": "python",
   "nbconvert_exporter": "python",
   "pygments_lexer": "ipython3",
   "version": "3.5.2"
  }
 },
 "nbformat": 4,
 "nbformat_minor": 0
}
